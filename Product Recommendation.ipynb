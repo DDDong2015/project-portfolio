{
 "cells": [
  {
   "cell_type": "markdown",
   "metadata": {
    "id": "0VhW8z184L4d"
   },
   "source": [
    "## Set up environment and import data"
   ]
  },
  {
   "cell_type": "code",
   "execution_count": null,
   "metadata": {
    "id": "ph6VOmti4Del"
   },
   "outputs": [],
   "source": [
    "import pandas as pd\n",
    "import numpy as np\n",
    "import seaborn as sns\n",
    "import matplotlib.pyplot as plt\n",
    "import json"
   ]
  },
  {
   "cell_type": "code",
   "execution_count": null,
   "metadata": {
    "colab": {
     "base_uri": "https://localhost:8080/"
    },
    "id": "n4E0Y74F4hmC",
    "outputId": "8e4c8398-7f7c-4a09-804b-ee1003d73af7"
   },
   "outputs": [
    {
     "name": "stdout",
     "output_type": "stream",
     "text": [
      "Mounted at /content/drive\n"
     ]
    }
   ],
   "source": [
    "from google.colab import drive\n",
    "drive.mount('/content/drive')"
   ]
  },
  {
   "cell_type": "markdown",
   "metadata": {
    "id": "xF-xuh9CeNTX"
   },
   "source": [
    "### read json as dataframe"
   ]
  },
  {
   "cell_type": "code",
   "execution_count": null,
   "metadata": {
    "id": "YHGHHi_Y365h"
   },
   "outputs": [],
   "source": [
    "json_file='/content/drive/My Drive/NLP Project/reviews_Electronics_5.json'\n",
    "df = pd.read_json(json_file, lines=True)"
   ]
  },
  {
   "cell_type": "code",
   "execution_count": null,
   "metadata": {
    "id": "eCaSyBFi1oH9"
   },
   "outputs": [],
   "source": [
    "df = df.rename(columns={'asin':'product_id'})"
   ]
  },
  {
   "cell_type": "code",
   "execution_count": null,
   "metadata": {
    "id": "M2jPxgBItECY"
   },
   "outputs": [],
   "source": [
    "df.drop(columns=['helpful', 'reviewerName', 'unixReviewTime', 'reviewTime'], inplace=True)"
   ]
  },
  {
   "cell_type": "code",
   "execution_count": null,
   "metadata": {
    "colab": {
     "base_uri": "https://localhost:8080/",
     "height": 198
    },
    "id": "zQluwsHK4h5I",
    "outputId": "bcee4da1-603b-4301-9287-bc28cdb3bcee"
   },
   "outputs": [
    {
     "data": {
      "text/html": [
       "<div>\n",
       "<style scoped>\n",
       "    .dataframe tbody tr th:only-of-type {\n",
       "        vertical-align: middle;\n",
       "    }\n",
       "\n",
       "    .dataframe tbody tr th {\n",
       "        vertical-align: top;\n",
       "    }\n",
       "\n",
       "    .dataframe thead th {\n",
       "        text-align: right;\n",
       "    }\n",
       "</style>\n",
       "<table border=\"1\" class=\"dataframe\">\n",
       "  <thead>\n",
       "    <tr style=\"text-align: right;\">\n",
       "      <th></th>\n",
       "      <th>reviewerID</th>\n",
       "      <th>product_id</th>\n",
       "      <th>reviewText</th>\n",
       "      <th>overall</th>\n",
       "      <th>summary</th>\n",
       "    </tr>\n",
       "  </thead>\n",
       "  <tbody>\n",
       "    <tr>\n",
       "      <th>0</th>\n",
       "      <td>AO94DHGC771SJ</td>\n",
       "      <td>0528881469</td>\n",
       "      <td>We got this GPS for my husband who is an (OTR)...</td>\n",
       "      <td>5</td>\n",
       "      <td>Gotta have GPS!</td>\n",
       "    </tr>\n",
       "    <tr>\n",
       "      <th>1</th>\n",
       "      <td>AMO214LNFCEI4</td>\n",
       "      <td>0528881469</td>\n",
       "      <td>I'm a professional OTR truck driver, and I bou...</td>\n",
       "      <td>1</td>\n",
       "      <td>Very Disappointed</td>\n",
       "    </tr>\n",
       "    <tr>\n",
       "      <th>2</th>\n",
       "      <td>A3N7T0DY83Y4IG</td>\n",
       "      <td>0528881469</td>\n",
       "      <td>Well, what can I say.  I've had this unit in m...</td>\n",
       "      <td>3</td>\n",
       "      <td>1st impression</td>\n",
       "    </tr>\n",
       "    <tr>\n",
       "      <th>3</th>\n",
       "      <td>A1H8PY3QHMQQA0</td>\n",
       "      <td>0528881469</td>\n",
       "      <td>Not going to write a long review, even thought...</td>\n",
       "      <td>2</td>\n",
       "      <td>Great grafics, POOR GPS</td>\n",
       "    </tr>\n",
       "    <tr>\n",
       "      <th>4</th>\n",
       "      <td>A24EV6RXELQZ63</td>\n",
       "      <td>0528881469</td>\n",
       "      <td>I've had mine for a year and here's what we go...</td>\n",
       "      <td>1</td>\n",
       "      <td>Major issues, only excuses for support</td>\n",
       "    </tr>\n",
       "  </tbody>\n",
       "</table>\n",
       "</div>"
      ],
      "text/plain": [
       "       reviewerID  product_id  ... overall                                 summary\n",
       "0   AO94DHGC771SJ  0528881469  ...       5                         Gotta have GPS!\n",
       "1   AMO214LNFCEI4  0528881469  ...       1                       Very Disappointed\n",
       "2  A3N7T0DY83Y4IG  0528881469  ...       3                          1st impression\n",
       "3  A1H8PY3QHMQQA0  0528881469  ...       2                 Great grafics, POOR GPS\n",
       "4  A24EV6RXELQZ63  0528881469  ...       1  Major issues, only excuses for support\n",
       "\n",
       "[5 rows x 5 columns]"
      ]
     },
     "execution_count": 6,
     "metadata": {
      "tags": []
     },
     "output_type": "execute_result"
    }
   ],
   "source": [
    "df.head()"
   ]
  },
  {
   "cell_type": "code",
   "execution_count": null,
   "metadata": {
    "colab": {
     "base_uri": "https://localhost:8080/"
    },
    "id": "raiOqEOaAjvu",
    "outputId": "d7c1105b-9631-401b-870b-5018f6f2260d"
   },
   "outputs": [
    {
     "name": "stdout",
     "output_type": "stream",
     "text": [
      "<class 'pandas.core.frame.DataFrame'>\n",
      "RangeIndex: 1689188 entries, 0 to 1689187\n",
      "Data columns (total 5 columns):\n",
      " #   Column      Non-Null Count    Dtype \n",
      "---  ------      --------------    ----- \n",
      " 0   reviewerID  1689188 non-null  object\n",
      " 1   product_id  1689188 non-null  object\n",
      " 2   reviewText  1689188 non-null  object\n",
      " 3   overall     1689188 non-null  int64 \n",
      " 4   summary     1689188 non-null  object\n",
      "dtypes: int64(1), object(4)\n",
      "memory usage: 64.4+ MB\n"
     ]
    }
   ],
   "source": [
    "df.info()"
   ]
  },
  {
   "cell_type": "code",
   "execution_count": null,
   "metadata": {
    "colab": {
     "base_uri": "https://localhost:8080/"
    },
    "id": "uInN7sRVBtqL",
    "outputId": "6fc2f197-82e3-4108-9711-e257819b1f9d"
   },
   "outputs": [
    {
     "data": {
      "text/plain": [
       "reviewerID     192403\n",
       "product_id      63001\n",
       "reviewText    1687169\n",
       "overall             5\n",
       "summary       1139738\n",
       "dtype: int64"
      ]
     },
     "execution_count": 8,
     "metadata": {
      "tags": []
     },
     "output_type": "execute_result"
    }
   ],
   "source": [
    "df.nunique()"
   ]
  },
  {
   "cell_type": "code",
   "execution_count": null,
   "metadata": {
    "colab": {
     "base_uri": "https://localhost:8080/",
     "height": 307
    },
    "id": "13p9TjVE55yd",
    "outputId": "16e37f42-3a08-481e-c070-09f318a1dbf7"
   },
   "outputs": [
    {
     "data": {
      "text/plain": [
       "<matplotlib.axes._subplots.AxesSubplot at 0x7ff68adfb6a0>"
      ]
     },
     "execution_count": 9,
     "metadata": {
      "tags": []
     },
     "output_type": "execute_result"
    },
    {
     "data": {
      "image/png": "[encoded data removed]",
      "text/plain": [
       "<Figure size 432x288 with 1 Axes>"
      ]
     },
     "metadata": {
      "needs_background": "light",
      "tags": []
     },
     "output_type": "display_data"
    }
   ],
   "source": [
    "pal = sns.color_palette(\"Greens_d\", 5)\n",
    "sns.countplot(x=\"overall\", data=df, palette=np.array(pal[::-1]))"
   ]
  },
  {
   "cell_type": "code",
   "execution_count": null,
   "metadata": {
    "colab": {
     "base_uri": "https://localhost:8080/"
    },
    "id": "eWadSlKB4jQA",
    "outputId": "7bcff50b-13ff-4b57-88e0-7147e7bb16f2"
   },
   "outputs": [
    {
     "data": {
      "text/plain": [
       "count    1.689188e+06\n",
       "mean     2.613683e+01\n",
       "std      1.654165e+01\n",
       "min      1.000000e+00\n",
       "25%      1.400000e+01\n",
       "50%      2.200000e+01\n",
       "75%      3.400000e+01\n",
       "max      2.920000e+02\n",
       "Name: summary, dtype: float64"
      ]
     },
     "execution_count": 10,
     "metadata": {
      "tags": []
     },
     "output_type": "execute_result"
    }
   ],
   "source": [
    "review = df['reviewText'].apply(lambda x: len(x))\n",
    "review.describe()\n",
    "summary = df['summary'].apply(lambda x: len(x))\n",
    "summary.describe()"
   ]
  },
  {
   "cell_type": "code",
   "execution_count": null,
   "metadata": {
    "colab": {
     "base_uri": "https://localhost:8080/",
     "height": 295
    },
    "id": "yuRI015e7Cad",
    "outputId": "527b2dba-4656-4760-e021-c960ec8c6912"
   },
   "outputs": [
    {
     "data": {
      "image/png": "[encoded data removed]",
      "text/plain": [
       "<Figure size 432x288 with 1 Axes>"
      ]
     },
     "metadata": {
      "needs_background": "light",
      "tags": []
     },
     "output_type": "display_data"
    }
   ],
   "source": [
    "plt.hist(review, bins=range(0,5000,100),color='lightseagreen',density=True,alpha=0.7)\n",
    "plt.title('Distribution of review text length')\n",
    "plt.xlabel('review')\n",
    "plt.ylabel('density')\n",
    "plt.show()"
   ]
  },
  {
   "cell_type": "code",
   "execution_count": null,
   "metadata": {
    "colab": {
     "base_uri": "https://localhost:8080/",
     "height": 295
    },
    "id": "haG2p3sx7dKw",
    "outputId": "74e8ea7a-e445-4905-b51e-025c027ddd37"
   },
   "outputs": [
    {
     "data": {
      "image/png": "[encoded data removed]",
      "text/plain": [
       "<Figure size 432x288 with 1 Axes>"
      ]
     },
     "metadata": {
      "needs_background": "light",
      "tags": []
     },
     "output_type": "display_data"
    }
   ],
   "source": [
    "plt.hist(summary, bins=range(0,140,5),color='darkgreen',density=True,alpha=0.7)\n",
    "plt.title('Distribution of summary length')\n",
    "plt.xlabel('summary')\n",
    "plt.ylabel('density')\n",
    "plt.show()"
   ]
  },
  {
   "cell_type": "code",
   "execution_count": null,
   "metadata": {
    "id": "u_Oo3F424h7Z"
   },
   "outputs": [],
   "source": [
    "# Remove missing value\n",
    "df.dropna(subset=['reviewText'],inplace=True)"
   ]
  },
  {
   "cell_type": "code",
   "execution_count": null,
   "metadata": {
    "colab": {
     "base_uri": "https://localhost:8080/"
    },
    "id": "km9enHg4eYV_",
    "outputId": "0f252e69-690b-4c28-aa14-57353c85ebb7"
   },
   "outputs": [
    {
     "name": "stdout",
     "output_type": "stream",
     "text": [
      "<class 'pandas.core.frame.DataFrame'>\n",
      "Int64Index: 1689188 entries, 0 to 1689187\n",
      "Data columns (total 5 columns):\n",
      " #   Column      Non-Null Count    Dtype \n",
      "---  ------      --------------    ----- \n",
      " 0   reviewerID  1689188 non-null  object\n",
      " 1   product_id  1689188 non-null  object\n",
      " 2   reviewText  1689188 non-null  object\n",
      " 3   overall     1689188 non-null  int64 \n",
      " 4   summary     1689188 non-null  object\n",
      "dtypes: int64(1), object(4)\n",
      "memory usage: 77.3+ MB\n"
     ]
    }
   ],
   "source": [
    "df.info()"
   ]
  },
  {
   "cell_type": "markdown",
   "metadata": {
    "id": "5clXzIjx4pJ8"
   },
   "source": [
    "## Tokenizing"
   ]
  },
  {
   "cell_type": "code",
   "execution_count": null,
   "metadata": {
    "colab": {
     "base_uri": "https://localhost:8080/"
    },
    "id": "lVazTltytuxk",
    "outputId": "0fba1ec4-b279-4d19-f474-0363ff0ad560"
   },
   "outputs": [
    {
     "data": {
      "text/plain": [
       "10000"
      ]
     },
     "execution_count": 15,
     "metadata": {
      "tags": []
     },
     "output_type": "execute_result"
    }
   ],
   "source": [
    "####limiting dataset for faster processing time\n",
    "df = df[:10000]\n",
    "len(df)"
   ]
  },
  {
   "cell_type": "code",
   "execution_count": null,
   "metadata": {
    "colab": {
     "base_uri": "https://localhost:8080/"
    },
    "id": "cwYa6O7ag7C_",
    "outputId": "4a50e066-3208-4ecc-a06f-5825b492e7f4"
   },
   "outputs": [
    {
     "data": {
      "text/plain": [
       "10000"
      ]
     },
     "execution_count": 16,
     "metadata": {
      "tags": []
     },
     "output_type": "execute_result"
    }
   ],
   "source": [
    "# use the first 10000 data as our training data\n",
    "data = df.loc[:9999, 'reviewText'].tolist()\n",
    "len(data)"
   ]
  },
  {
   "cell_type": "code",
   "execution_count": null,
   "metadata": {
    "id": "osAuDxeFs_KZ"
   },
   "outputs": [],
   "source": [
    "data = [k.lower() for k in data]"
   ]
  },
  {
   "cell_type": "code",
   "execution_count": null,
   "metadata": {
    "colab": {
     "base_uri": "https://localhost:8080/",
     "height": 139
    },
    "id": "gSiAnsz7toSK",
    "outputId": "dbcf3894-ef2a-4bbd-f79c-fa1517f5e188"
   },
   "outputs": [
    {
     "data": {
      "application/vnd.google.colaboratory.intrinsic+json": {
       "type": "string"
      },
      "text/plain": [
       "'We got this GPS for my husband who is an (OTR) over the road trucker.  Very Impressed with the shipping time, it arrived a few days earlier than expected...  within a week of use however it started freezing up... could of just been a glitch in that unit.  Worked great when it worked!  Will work great for the normal person as well but does have the \"trucker\" option. (the big truck routes - tells you when a scale is coming up ect...)  Love the bigger screen, the ease of use, the ease of putting addresses into memory.  Nothing really bad to say about the unit with the exception of it freezing which is probably one in a million and that\\'s just my luck.  I contacted the seller and within minutes of my email I received a email back with instructions for an exchange! VERY impressed all the way around!'"
      ]
     },
     "execution_count": 18,
     "metadata": {
      "tags": []
     },
     "output_type": "execute_result"
    }
   ],
   "source": [
    "df['reviewText'][0]"
   ]
  },
  {
   "cell_type": "markdown",
   "metadata": {
    "id": "fR0btOyEvinl"
   },
   "source": [
    "# Topic Modeling using LDA"
   ]
  },
  {
   "cell_type": "code",
   "execution_count": null,
   "metadata": {
    "colab": {
     "base_uri": "https://localhost:8080/"
    },
    "id": "91Lk8Q794NW7",
    "outputId": "94c3ae19-880f-417d-a882-b142c304dd8a"
   },
   "outputs": [
    {
     "name": "stdout",
     "output_type": "stream",
     "text": [
      "[nltk_data] Downloading package stopwords to /root/nltk_data...\n",
      "[nltk_data]   Unzipping corpora/stopwords.zip.\n"
     ]
    }
   ],
   "source": [
    "import nltk; nltk.download('stopwords')\n",
    "import spacy; nlp = spacy.load(\"en\")"
   ]
  },
  {
   "cell_type": "code",
   "execution_count": null,
   "metadata": {
    "id": "uD7YcA5e4ct2"
   },
   "outputs": [],
   "source": [
    "import re\n",
    "import numpy as np\n",
    "import pandas as pd\n",
    "from pprint import pprint\n",
    "\n",
    "# Gensim\n",
    "import gensim\n",
    "import gensim.corpora as corpora\n",
    "from gensim.utils import simple_preprocess\n",
    "from gensim.models import CoherenceModel\n",
    "\n",
    "# spacy for lemmatization\n",
    "import spacy\n",
    "\n",
    "# Enable logging for gensim - optional\n",
    "import logging\n",
    "logging.basicConfig(format='%(asctime)s : %(levelname)s : %(message)s', level=logging.ERROR)\n",
    "\n",
    "import warnings\n",
    "warnings.filterwarnings(\"ignore\",category=DeprecationWarning)"
   ]
  },
  {
   "cell_type": "code",
   "execution_count": null,
   "metadata": {
    "id": "OIYA7EVM4iKj"
   },
   "outputs": [],
   "source": [
    "# NLTK Stop words\n",
    "from nltk.corpus import stopwords\n",
    "stop_words = stopwords.words('english')\n",
    "stop_words.extend(['from', 'subject', 're', 'edu', 'use'])"
   ]
  },
  {
   "cell_type": "code",
   "execution_count": null,
   "metadata": {
    "colab": {
     "base_uri": "https://localhost:8080/"
    },
    "id": "_UedEUYh4xbO",
    "outputId": "d55bbc2f-2008-4dc0-a1d2-9b4cb46fcee2"
   },
   "outputs": [
    {
     "name": "stdout",
     "output_type": "stream",
     "text": [
      "[['we', 'got', 'this', 'gps', 'for', 'my', 'husband', 'who', 'is', 'an', 'otr', 'over', 'the', 'road', 'trucker', 'very', 'impressed', 'with', 'the', 'shipping', 'time', 'it', 'arrived', 'few', 'days', 'earlier', 'than', 'expected', 'within', 'week', 'of', 'use', 'however', 'it', 'started', 'freezing', 'up', 'could', 'of', 'just', 'been', 'glitch', 'in', 'that', 'unit', 'worked', 'great', 'when', 'it', 'worked', 'will', 'work', 'great', 'for', 'the', 'normal', 'person', 'as', 'well', 'but', 'does', 'have', 'the', 'trucker', 'option', 'the', 'big', 'truck', 'routes', 'tells', 'you', 'when', 'scale', 'is', 'coming', 'up', 'ect', 'love', 'the', 'bigger', 'screen', 'the', 'ease', 'of', 'use', 'the', 'ease', 'of', 'putting', 'addresses', 'into', 'memory', 'nothing', 'really', 'bad', 'to', 'say', 'about', 'the', 'unit', 'with', 'the', 'exception', 'of', 'it', 'freezing', 'which', 'is', 'probably', 'one', 'in', 'million', 'and', 'that', 'just', 'my', 'luck', 'contacted', 'the', 'seller', 'and', 'within', 'minutes', 'of', 'my', 'email', 'received', 'email', 'back', 'with', 'instructions', 'for', 'an', 'exchange', 'very', 'impressed', 'all', 'the', 'way', 'around']]\n"
     ]
    }
   ],
   "source": [
    "def sent_to_words(sentences):\n",
    "    for sentence in sentences:\n",
    "        yield(gensim.utils.simple_preprocess(str(sentence), deacc=True))  # deacc=True removes punctuations\n",
    "data_words = list(sent_to_words(df.reviewText))\n",
    "print(data_words[:1])"
   ]
  },
  {
   "cell_type": "code",
   "execution_count": null,
   "metadata": {
    "colab": {
     "base_uri": "https://localhost:8080/"
    },
    "id": "QFV7aFc75E_A",
    "outputId": "4363cf31-9279-418a-ad44-52c411067965"
   },
   "outputs": [
    {
     "name": "stderr",
     "output_type": "stream",
     "text": [
      "/usr/local/lib/python3.6/dist-packages/gensim/models/phrases.py:598: UserWarning: For a faster implementation, use the gensim.models.phrases.Phraser class\n",
      "  warnings.warn(\"For a faster implementation, use the gensim.models.phrases.Phraser class\")\n"
     ]
    }
   ],
   "source": [
    "# Build the bigram and trigram models\n",
    "bigram = gensim.models.Phrases(data_words, min_count=5, threshold=100) # higher threshold fewer phrases.\n",
    "trigram = gensim.models.Phrases(bigram[data_words], threshold=100)  \n",
    "\n",
    "# Faster way to get a sentence clubbed as a trigram/bigram\n",
    "bigram_mod = gensim.models.phrases.Phraser(bigram)\n",
    "trigram_mod = gensim.models.phrases.Phraser(trigram)"
   ]
  },
  {
   "cell_type": "code",
   "execution_count": null,
   "metadata": {
    "id": "VHfEzuXt5Rv-"
   },
   "outputs": [],
   "source": [
    "# Define functions for stopwords, bigrams, trigrams and lemmatization\n",
    "def remove_stopwords(texts):\n",
    "    return [[word for word in simple_preprocess(str(doc)) if word not in stop_words] for doc in texts]\n",
    "\n",
    "def make_bigrams(texts):\n",
    "    return [bigram_mod[doc] for doc in texts]\n",
    "\n",
    "def make_trigrams(texts):\n",
    "    return [trigram_mod[bigram_mod[doc]] for doc in texts]\n",
    "\n",
    "def lemmatization(texts, allowed_postags=['NOUN', 'ADJ', 'VERB', 'ADV']):\n",
    "    \"\"\"https://spacy.io/api/annotation\"\"\"\n",
    "    texts_out = []\n",
    "    for sent in texts:\n",
    "        doc = nlp(\" \".join(sent)) \n",
    "        texts_out.append([token.lemma_ for token in doc \n",
    "                          if token.pos_ in allowed_postags])\n",
    "    return texts_out"
   ]
  },
  {
   "cell_type": "code",
   "execution_count": null,
   "metadata": {
    "colab": {
     "base_uri": "https://localhost:8080/"
    },
    "id": "emFaNe1S5WSo",
    "outputId": "d432b000-0d23-477f-91ba-fbe98c723d9c"
   },
   "outputs": [
    {
     "name": "stdout",
     "output_type": "stream",
     "text": [
      "[['get', 'trucker', 'impress', 'shipping', 'time', 'arrive', 'day', 'earlier', 'expect', 'week', 'however', 'start', 'freeze', 'could', 'glitch', 'unit', 'work', 'great', 'worked', 'work', 'great', 'normal', 'person', 'trucker', 'option', 'big', 'truck', 'route', 'tell', 'scale', 'come', 'ect', 'love', 'big', 'screen', 'ease', 'ease', 'putting', 'address', 'memory', 'really', 'bad', 'say', 'unit', 'exception', 'freeze', 'probably', 'luck', 'contact', 'seller', 'minute', 'email', 'receive', 'email', 'instruction', 'exchange', 'impress', 'way', 'around']]\n"
     ]
    }
   ],
   "source": [
    "# Remove Stop Words\n",
    "data_words_nostops = remove_stopwords(data_words)\n",
    "\n",
    "# Form Bigrams\n",
    "data_words_bigrams = make_bigrams(data_words_nostops)\n",
    "\n",
    "# Initialize spacy 'en' model, keeping only tagger component (for efficiency)\n",
    "# python3 -m spacy download en\n",
    "nlp = spacy.load('en', disable=['parser', 'ner'])\n",
    "\n",
    "# Do lemmatization keeping only noun, adj, vb, adv\n",
    "data_lemmatized = lemmatization(data_words_bigrams, allowed_postags=['NOUN', 'ADJ', 'VERB', 'ADV'])\n",
    "\n",
    "print(data_lemmatized[:1])"
   ]
  },
  {
   "cell_type": "code",
   "execution_count": null,
   "metadata": {
    "colab": {
     "base_uri": "https://localhost:8080/"
    },
    "id": "z3PVHHrO5a6C",
    "outputId": "e016e84a-677e-4744-d80a-34935f785d38"
   },
   "outputs": [
    {
     "name": "stdout",
     "output_type": "stream",
     "text": [
      "[[(0, 1), (1, 1), (2, 1), (3, 1), (4, 2), (5, 1), (6, 1), (7, 1), (8, 1), (9, 1), (10, 2), (11, 1), (12, 2), (13, 1), (14, 1), (15, 1), (16, 2), (17, 1), (18, 1), (19, 2), (20, 1), (21, 2), (22, 1), (23, 1), (24, 1), (25, 1), (26, 1), (27, 1), (28, 1), (29, 1), (30, 1), (31, 1), (32, 1), (33, 1), (34, 1), (35, 1), (36, 1), (37, 1), (38, 1), (39, 1), (40, 1), (41, 1), (42, 1), (43, 1), (44, 2), (45, 2), (46, 1), (47, 1), (48, 2), (49, 1)]]\n"
     ]
    }
   ],
   "source": [
    "# Create Dictionary\n",
    "id2word = corpora.Dictionary(data_lemmatized)\n",
    "\n",
    "# Create Corpus\n",
    "texts = data_lemmatized\n",
    "\n",
    "# Term Document Frequency\n",
    "corpus = [id2word.doc2bow(text) for text in texts]\n",
    "\n",
    "# View\n",
    "print(corpus[:1])"
   ]
  },
  {
   "cell_type": "markdown",
   "metadata": {
    "id": "-mgsCA205fg7"
   },
   "source": [
    "### Building the topic model"
   ]
  },
  {
   "cell_type": "code",
   "execution_count": null,
   "metadata": {
    "id": "6gT8FjCz5he5"
   },
   "outputs": [],
   "source": [
    "# Build LDA model\n",
    "lda_model = gensim.models.ldamodel.LdaModel(corpus=corpus,\n",
    "                                           id2word=id2word,\n",
    "                                           num_topics=22, \n",
    "                                           random_state=100,\n",
    "                                           update_every=1,\n",
    "                                           chunksize=100,\n",
    "                                           passes=10,\n",
    "                                           alpha='auto',\n",
    "                                           per_word_topics=True)"
   ]
  },
  {
   "cell_type": "code",
   "execution_count": null,
   "metadata": {
    "colab": {
     "base_uri": "https://localhost:8080/"
    },
    "id": "qQXTLIZw5tmT",
    "outputId": "277b593c-4abb-4965-f7f8-c70b529945a8"
   },
   "outputs": [
    {
     "name": "stdout",
     "output_type": "stream",
     "text": [
      "[(7,\n",
      "  '0.084*\"order\" + 0.077*\"strap\" + 0.051*\"quickly\" + 0.041*\"spare\" + '\n",
      "  '0.038*\"key\" + 0.036*\"service\" + 0.031*\"black\" + 0.031*\"handy\" + '\n",
      "  '0.023*\"soon\" + 0.022*\"hd\"'),\n",
      " (13,\n",
      "  '0.070*\"sharp\" + 0.040*\"fold\" + 0.034*\"lock\" + 0.034*\"tight\" + '\n",
      "  '0.024*\"lighting\" + 0.020*\"single\" + 0.019*\"various\" + 0.016*\"thick\" + '\n",
      "  '0.016*\"panasonic\" + 0.016*\"extension\"'),\n",
      " (1,\n",
      "  '0.080*\"month\" + 0.075*\"radio\" + 0.029*\"extremely\" + 0.028*\"ago\" + '\n",
      "  '0.025*\"talk\" + 0.025*\"remember\" + 0.023*\"station\" + 0.022*\"relatively\" + '\n",
      "  '0.022*\"area\" + 0.021*\"vacation\"'),\n",
      " (9,\n",
      "  '0.051*\"support\" + 0.048*\"open\" + 0.046*\"view\" + 0.044*\"user\" + '\n",
      "  '0.044*\"attach\" + 0.039*\"amazing\" + 0.029*\"kit\" + 0.025*\"similar\" + '\n",
      "  '0.022*\"certainly\" + 0.022*\"plenty\"'),\n",
      " (16,\n",
      "  '0.147*\"cable\" + 0.137*\"shot\" + 0.062*\"store\" + 0.045*\"box\" + 0.029*\"tie\" + '\n",
      "  '0.027*\"application\" + 0.024*\"wireless\" + 0.022*\"installation\" + '\n",
      "  '0.019*\"rebel\" + 0.018*\"local\"'),\n",
      " (4,\n",
      "  '0.112*\"image\" + 0.038*\"difference\" + 0.037*\"piece\" + 0.032*\"pic\" + '\n",
      "  '0.029*\"equipment\" + 0.025*\"kind\" + 0.023*\"ok\" + 0.022*\"snap\" + '\n",
      "  '0.019*\"desktop\" + 0.016*\"fantastic\"'),\n",
      " (3,\n",
      "  '0.114*\"unit\" + 0.100*\"old\" + 0.098*\"new\" + 0.063*\"model\" + 0.027*\"recently\" '\n",
      "  '+ 0.027*\"roll\" + 0.018*\"optic\" + 0.016*\"photograph\" + 0.016*\"loose\" + '\n",
      "  '0.015*\"general\"'),\n",
      " (10,\n",
      "  '0.116*\"case\" + 0.068*\"expensive\" + 0.068*\"palm\" + 0.054*\"hand\" + '\n",
      "  '0.039*\"type\" + 0.034*\"cover\" + 0.031*\"maybe\" + 0.028*\"offer\" + '\n",
      "  '0.023*\"lightweight\" + 0.021*\"dslr\"'),\n",
      " (15,\n",
      "  '0.132*\"light\" + 0.101*\"low\" + 0.052*\"binocular\" + 0.035*\"job\" + '\n",
      "  '0.033*\"adjust\" + 0.030*\"bright\" + 0.029*\"level\" + 0.028*\"purpose\" + '\n",
      "  '0.023*\"durable\" + 0.012*\"position\"'),\n",
      " (11,\n",
      "  '0.116*\"photo\" + 0.078*\"head\" + 0.074*\"quot\" + 0.041*\"item\" + 0.035*\"solid\" '\n",
      "  '+ 0.032*\"value\" + 0.028*\"difficult\" + 0.025*\"produce\" + 0.022*\"stand\" + '\n",
      "  '0.020*\"regular\"'),\n",
      " (17,\n",
      "  '0.159*\"lens\" + 0.068*\"shoot\" + 0.057*\"focus\" + 0.043*\"manual\" + '\n",
      "  '0.039*\"clear\" + 0.028*\"star\" + 0.026*\"brand\" + 0.024*\"filter\" + '\n",
      "  '0.022*\"body\" + 0.021*\"internet\"'),\n",
      " (2,\n",
      "  '0.057*\"side\" + 0.040*\"record\" + 0.035*\"result\" + 0.034*\"lcd\" + '\n",
      "  '0.033*\"connection\" + 0.031*\"provide\" + 0.030*\"pack\" + 0.030*\"call\" + '\n",
      "  '0.026*\"simply\" + 0.019*\"stay\"'),\n",
      " (5,\n",
      "  '0.068*\"zoom\" + 0.065*\"feel\" + 0.052*\"comfortable\" + 0.040*\"away\" + '\n",
      "  '0.038*\"spend\" + 0.033*\"can\" + 0.028*\"pda\" + 0.027*\"beat\" + 0.026*\"foot\" + '\n",
      "  '0.020*\"else\"'),\n",
      " (20,\n",
      "  '0.113*\"small\" + 0.048*\"ear\" + 0.047*\"pretty\" + 0.041*\"hard\" + '\n",
      "  '0.038*\"easily\" + 0.035*\"top\" + 0.033*\"plastic\" + 0.028*\"wear\" + '\n",
      "  '0.021*\"drop\" + 0.019*\"drive\"'),\n",
      " (14,\n",
      "  '0.212*\"camera\" + 0.085*\"picture\" + 0.068*\"flash\" + 0.059*\"take\" + '\n",
      "  '0.039*\"computer\" + 0.026*\"software\" + 0.022*\"read\" + 0.019*\"keyboard\" + '\n",
      "  '0.017*\"video\" + 0.012*\"print\"'),\n",
      " (8,\n",
      "  '0.034*\"pocket\" + 0.032*\"feature\" + 0.027*\"color\" + 0.026*\"memory\" + '\n",
      "  '0.024*\"visor\" + 0.021*\"play\" + 0.021*\"allow\" + 0.020*\"screen\" + '\n",
      "  '0.020*\"fast\" + 0.020*\"however\"'),\n",
      " (21,\n",
      "  '0.101*\"headphone\" + 0.093*\"sound\" + 0.092*\"quality\" + 0.050*\"high\" + '\n",
      "  '0.035*\"fine\" + 0.030*\"pair\" + 0.029*\"perfect\" + 0.026*\"end\" + 0.021*\"range\" '\n",
      "  '+ 0.021*\"hear\"'),\n",
      " (12,\n",
      "  '0.036*\"card\" + 0.035*\"set\" + 0.028*\"film\" + 0.026*\"take\" + 0.020*\"lense\" + '\n",
      "  '0.018*\"digital\" + 0.016*\"mode\" + 0.016*\"control\" + 0.015*\"router\" + '\n",
      "  '0.015*\"cord\"'),\n",
      " (18,\n",
      "  '0.091*\"good\" + 0.083*\"work\" + 0.083*\"great\" + 0.064*\"well\" + 0.059*\"price\" '\n",
      "  '+ 0.048*\"need\" + 0.033*\"easy\" + 0.031*\"look\" + 0.030*\"product\" + '\n",
      "  '0.029*\"fit\"'),\n",
      " (19,\n",
      "  '0.035*\"get\" + 0.031*\"use\" + 0.025*\"would\" + 0.021*\"time\" + 0.021*\"buy\" + '\n",
      "  '0.019*\"go\" + 0.016*\"make\" + 0.016*\"also\" + 0.016*\"really\" + 0.016*\"find\"')]\n"
     ]
    }
   ],
   "source": [
    "# Print the Keyword in the 10 topics\n",
    "pprint(lda_model.print_topics())\n",
    "doc_lda = lda_model[corpus]"
   ]
  },
  {
   "cell_type": "code",
   "execution_count": null,
   "metadata": {
    "colab": {
     "base_uri": "https://localhost:8080/"
    },
    "id": "1ovLyy5c55bk",
    "outputId": "0febb14d-d94d-4e49-af31-56b56c9d9e9f"
   },
   "outputs": [
    {
     "name": "stdout",
     "output_type": "stream",
     "text": [
      "\n",
      "Coherence Score:  0.31352554403417154\n"
     ]
    }
   ],
   "source": [
    "# Compute Coherence Score\n",
    "#The higher the coherence score the better, we will use this to find the best number of topics\n",
    "coherence_model_lda = CoherenceModel(model=lda_model, texts=data_lemmatized, dictionary=id2word, coherence='c_v')\n",
    "coherence_lda = coherence_model_lda.get_coherence()\n",
    "print('\\nCoherence Score: ', coherence_lda)"
   ]
  },
  {
   "cell_type": "code",
   "execution_count": null,
   "metadata": {
    "colab": {
     "base_uri": "https://localhost:8080/"
    },
    "id": "Wq0BiZTkQ9OL",
    "outputId": "6ec1ab62-c58f-405f-f661-1e81cbc92863"
   },
   "outputs": [
    {
     "name": "stdout",
     "output_type": "stream",
     "text": [
      "when num_topics = 10, coherence score = 0.3031610452691428\n",
      "when num_topics = 12, coherence score = 0.3161742843854096\n",
      "when num_topics = 14, coherence score = 0.3252234428195491\n",
      "when num_topics = 16, coherence score = 0.3603656693040588\n",
      "when num_topics = 18, coherence score = 0.31255563541244813\n",
      "when num_topics = 20, coherence score = 0.3149534106547161\n",
      "when num_topics = 22, coherence score = 0.31352554403417154\n",
      "when num_topics = 24, coherence score = 0.30316948082630324\n"
     ]
    }
   ],
   "source": [
    "#Using the conference score to estimate the best number of topics\n",
    "\n",
    "for i in range(10,25,2):\n",
    "  lda_model = gensim.models.ldamodel.LdaModel(corpus=corpus,\n",
    "                                            id2word=id2word,\n",
    "                                            num_topics=i, \n",
    "                                            random_state=100,\n",
    "                                            update_every=1,\n",
    "                                            chunksize=100,\n",
    "                                            passes=10,\n",
    "                                            alpha='auto',\n",
    "                                            per_word_topics=True)\n",
    "  coherence_model_lda = CoherenceModel(model=lda_model, texts=data_lemmatized, dictionary=id2word, coherence='c_v')\n",
    "  coherence_lda = coherence_model_lda.get_coherence()\n",
    "  print('when num_topics = ' + str(i) + ', coherence score = ' + str(coherence_lda))"
   ]
  },
  {
   "cell_type": "code",
   "execution_count": null,
   "metadata": {
    "id": "4Qje9beNlPS7"
   },
   "outputs": [],
   "source": [
    "#best num_topics is 14\n",
    "lda_model = gensim.models.ldamodel.LdaModel(corpus=corpus,\n",
    "                                           id2word=id2word,\n",
    "                                           num_topics=14, \n",
    "                                           random_state=100,\n",
    "                                           update_every=1,\n",
    "                                           chunksize=100,\n",
    "                                           passes=10,\n",
    "                                           alpha='auto',\n",
    "                                           per_word_topics=True)"
   ]
  },
  {
   "cell_type": "code",
   "execution_count": null,
   "metadata": {
    "colab": {
     "base_uri": "https://localhost:8080/"
    },
    "id": "-GbHUMq5Dg9O",
    "outputId": "e2dcd54b-ce13-469a-a774-a681b05b54ab"
   },
   "outputs": [
    {
     "name": "stdout",
     "output_type": "stream",
     "text": [
      "[(0,\n",
      "  '0.093*\"bag\" + 0.048*\"pocket\" + 0.046*\"carry\" + 0.034*\"palm\" + 0.034*\"color\" '\n",
      "  '+ 0.033*\"pc\" + 0.031*\"read\" + 0.027*\"month\" + 0.023*\"away\" + '\n",
      "  '0.017*\"sometimes\"'),\n",
      " (1,\n",
      "  '0.090*\"quot\" + 0.089*\"perfect\" + 0.039*\"pda\" + 0.030*\"usually\" + '\n",
      "  '0.020*\"wide\" + 0.018*\"complain\" + 0.018*\"area\" + 0.018*\"nearly\" + '\n",
      "  '0.017*\"vacation\" + 0.015*\"desk\"'),\n",
      " (2,\n",
      "  '0.045*\"hear\" + 0.037*\"wear\" + 0.029*\"pack\" + 0.025*\"simply\" + 0.023*\"cover\" '\n",
      "  '+ 0.023*\"protect\" + 0.021*\"call\" + 0.018*\"tie\" + 0.017*\"care\" + '\n",
      "  '0.017*\"service\"'),\n",
      " (3,\n",
      "  '0.034*\"get\" + 0.029*\"time\" + 0.026*\"go\" + 0.021*\"even\" + 0.019*\"still\" + '\n",
      "  '0.017*\"year\" + 0.016*\"thing\" + 0.016*\"see\" + 0.014*\"take\" + 0.013*\"first\"'),\n",
      " (4,\n",
      "  '0.164*\"camera\" + 0.066*\"picture\" + 0.059*\"take\" + 0.053*\"flash\" + '\n",
      "  '0.044*\"battery\" + 0.029*\"film\" + 0.026*\"image\" + 0.018*\"digital\" + '\n",
      "  '0.016*\"mode\" + 0.015*\"router\"'),\n",
      " (5,\n",
      "  '0.038*\"card\" + 0.033*\"problem\" + 0.032*\"computer\" + 0.027*\"unit\" + '\n",
      "  '0.021*\"software\" + 0.021*\"old\" + 0.016*\"manual\" + 0.016*\"fast\" + '\n",
      "  '0.016*\"keyboard\" + 0.015*\"range\"'),\n",
      " (6,\n",
      "  '0.064*\"headphone\" + 0.059*\"sound\" + 0.019*\"pair\" + 0.019*\"ear\" + '\n",
      "  '0.018*\"head\" + 0.016*\"better\" + 0.015*\"play\" + 0.015*\"set\" + 0.014*\"always\" '\n",
      "  '+ 0.013*\"listen\"'),\n",
      " (7,\n",
      "  '0.094*\"product\" + 0.037*\"device\" + 0.036*\"model\" + 0.031*\"usb\" + '\n",
      "  '0.031*\"order\" + 0.029*\"different\" + 0.028*\"item\" + 0.027*\"note\" + '\n",
      "  '0.027*\"simple\" + 0.024*\"provide\"'),\n",
      " (8,\n",
      "  '0.071*\"tape\" + 0.068*\"zoom\" + 0.040*\"record\" + 0.030*\"compact\" + '\n",
      "  '0.024*\"internet\" + 0.019*\"situation\" + 0.018*\"handle\" + '\n",
      "  '0.017*\"construction\" + 0.017*\"worry\" + 0.016*\"develop\"'),\n",
      " (9,\n",
      "  '0.053*\"feel\" + 0.050*\"last\" + 0.042*\"comfortable\" + 0.037*\"plastic\" + '\n",
      "  '0.029*\"break\" + 0.027*\"star\" + 0.024*\"part\" + 0.022*\"piece\" + '\n",
      "  '0.017*\"package\" + 0.017*\"kit\"'),\n",
      " (10,\n",
      "  '0.078*\"case\" + 0.066*\"low\" + 0.036*\"hand\" + 0.034*\"radio\" + 0.028*\"strap\" + '\n",
      "  '0.022*\"drop\" + 0.018*\"pic\" + 0.017*\"wish\" + 0.016*\"remote\" + 0.016*\"best\"'),\n",
      " (11,\n",
      "  '0.038*\"good\" + 0.033*\"great\" + 0.032*\"work\" + 0.029*\"buy\" + 0.028*\"well\" + '\n",
      "  '0.024*\"use\" + 0.023*\"price\" + 0.023*\"would\" + 0.021*\"make\" + '\n",
      "  '0.020*\"quality\"'),\n",
      " (12,\n",
      "  '0.030*\"super\" + 0.026*\"offer\" + 0.024*\"wonderful\" + 0.024*\"water\" + '\n",
      "  '0.022*\"lightweight\" + 0.020*\"lock\" + 0.019*\"professional\" + 0.019*\"pan\" + '\n",
      "  '0.015*\"desktop\" + 0.014*\"additional\"'),\n",
      " (13,\n",
      "  '0.118*\"lens\" + 0.054*\"shot\" + 0.050*\"shoot\" + 0.043*\"focus\" + 0.040*\"lense\" '\n",
      "  '+ 0.028*\"binocular\" + 0.018*\"filter\" + 0.016*\"body\" + 0.014*\"exposure\" + '\n",
      "  '0.014*\"bird\"')]\n"
     ]
    }
   ],
   "source": [
    "# Print the Keyword in the 10 topics\n",
    "pprint(lda_model.print_topics())\n",
    "doc_lda = lda_model[corpus]"
   ]
  },
  {
   "cell_type": "code",
   "execution_count": null,
   "metadata": {
    "id": "gRDYmOJz_ZBc"
   },
   "outputs": [],
   "source": [
    "#Identify dominant topic for all reviews\n",
    "review_topics = []\n",
    "\n",
    "for i, row in enumerate(lda_model[corpus]):\n",
    "  row = sorted(row[0], key=lambda x: (x[1]), reverse=True)\n",
    "  review_topics.append(row[0][0])\n",
    "\n"
   ]
  },
  {
   "cell_type": "code",
   "execution_count": null,
   "metadata": {
    "id": "xfbcyrW_PQkE"
   },
   "outputs": [],
   "source": [
    "#Get words for each topic\n",
    "review_topics_word = []\n",
    "for i in review_topics:\n",
    "  wp = lda_model.show_topic(i)\n",
    "  topic_keywords = \", \".join([word for word, prop in wp])\n",
    "  review_topics_word.append(topic_keywords)"
   ]
  },
  {
   "cell_type": "code",
   "execution_count": null,
   "metadata": {
    "colab": {
     "base_uri": "https://localhost:8080/",
     "height": 285
    },
    "id": "iJ36xK-OM5on",
    "outputId": "9a06b77b-2779-4de9-ee3f-8951c9ca5a1c"
   },
   "outputs": [
    {
     "data": {
      "text/html": [
       "<div>\n",
       "<style scoped>\n",
       "    .dataframe tbody tr th:only-of-type {\n",
       "        vertical-align: middle;\n",
       "    }\n",
       "\n",
       "    .dataframe tbody tr th {\n",
       "        vertical-align: top;\n",
       "    }\n",
       "\n",
       "    .dataframe thead th {\n",
       "        text-align: right;\n",
       "    }\n",
       "</style>\n",
       "<table border=\"1\" class=\"dataframe\">\n",
       "  <thead>\n",
       "    <tr style=\"text-align: right;\">\n",
       "      <th></th>\n",
       "      <th>reviewerID</th>\n",
       "      <th>product_id</th>\n",
       "      <th>reviewText</th>\n",
       "      <th>overall</th>\n",
       "      <th>summary</th>\n",
       "      <th>Topic#</th>\n",
       "      <th>Topic_words</th>\n",
       "    </tr>\n",
       "  </thead>\n",
       "  <tbody>\n",
       "    <tr>\n",
       "      <th>0</th>\n",
       "      <td>AO94DHGC771SJ</td>\n",
       "      <td>0528881469</td>\n",
       "      <td>We got this GPS for my husband who is an (OTR)...</td>\n",
       "      <td>5</td>\n",
       "      <td>Gotta have GPS!</td>\n",
       "      <td>3</td>\n",
       "      <td>get, time, go, even, still, year, thing, see, ...</td>\n",
       "    </tr>\n",
       "    <tr>\n",
       "      <th>1</th>\n",
       "      <td>AMO214LNFCEI4</td>\n",
       "      <td>0528881469</td>\n",
       "      <td>I'm a professional OTR truck driver, and I bou...</td>\n",
       "      <td>1</td>\n",
       "      <td>Very Disappointed</td>\n",
       "      <td>3</td>\n",
       "      <td>get, time, go, even, still, year, thing, see, ...</td>\n",
       "    </tr>\n",
       "    <tr>\n",
       "      <th>2</th>\n",
       "      <td>A3N7T0DY83Y4IG</td>\n",
       "      <td>0528881469</td>\n",
       "      <td>Well, what can I say.  I've had this unit in m...</td>\n",
       "      <td>3</td>\n",
       "      <td>1st impression</td>\n",
       "      <td>3</td>\n",
       "      <td>get, time, go, even, still, year, thing, see, ...</td>\n",
       "    </tr>\n",
       "    <tr>\n",
       "      <th>3</th>\n",
       "      <td>A1H8PY3QHMQQA0</td>\n",
       "      <td>0528881469</td>\n",
       "      <td>Not going to write a long review, even thought...</td>\n",
       "      <td>2</td>\n",
       "      <td>Great grafics, POOR GPS</td>\n",
       "      <td>3</td>\n",
       "      <td>get, time, go, even, still, year, thing, see, ...</td>\n",
       "    </tr>\n",
       "    <tr>\n",
       "      <th>4</th>\n",
       "      <td>A24EV6RXELQZ63</td>\n",
       "      <td>0528881469</td>\n",
       "      <td>I've had mine for a year and here's what we go...</td>\n",
       "      <td>1</td>\n",
       "      <td>Major issues, only excuses for support</td>\n",
       "      <td>3</td>\n",
       "      <td>get, time, go, even, still, year, thing, see, ...</td>\n",
       "    </tr>\n",
       "  </tbody>\n",
       "</table>\n",
       "</div>"
      ],
      "text/plain": [
       "       reviewerID  ...                                        Topic_words\n",
       "0   AO94DHGC771SJ  ...  get, time, go, even, still, year, thing, see, ...\n",
       "1   AMO214LNFCEI4  ...  get, time, go, even, still, year, thing, see, ...\n",
       "2  A3N7T0DY83Y4IG  ...  get, time, go, even, still, year, thing, see, ...\n",
       "3  A1H8PY3QHMQQA0  ...  get, time, go, even, still, year, thing, see, ...\n",
       "4  A24EV6RXELQZ63  ...  get, time, go, even, still, year, thing, see, ...\n",
       "\n",
       "[5 rows x 7 columns]"
      ]
     },
     "execution_count": 35,
     "metadata": {
      "tags": []
     },
     "output_type": "execute_result"
    }
   ],
   "source": [
    "df['Topic#'] = review_topics\n",
    "df['Topic_words'] = review_topics_word\n",
    "df.head()"
   ]
  },
  {
   "cell_type": "code",
   "execution_count": null,
   "metadata": {
    "colab": {
     "base_uri": "https://localhost:8080/"
    },
    "id": "Ff3i5ZMvTnqw",
    "outputId": "71378520-7d83-4e1c-bdff-817b3017855b"
   },
   "outputs": [
    {
     "name": "stdout",
     "output_type": "stream",
     "text": [
      "reviewerID = AIMV33HXTEZOI\n",
      "This reviewer's favorite topic is topic number 11\n",
      "Based on favorite topic number, product number 0594451647 is recommended\n"
     ]
    }
   ],
   "source": [
    "# Recommend new product to a random user\n",
    "def recommendation(reviewerID, df):\n",
    "  subset_user = df[df['reviewerID'] == reviewerID].copy()\n",
    "  subset_user.sort_values('overall', ascending=False, inplace=True)\n",
    "  topic_n = subset_user['Topic#'].iloc[0]\n",
    "  subset_topic = df[df['Topic#'] == topic_n].copy()\n",
    "  subset_topic.sort_values('overall', ascending=False, inplace=True)\n",
    "  product_n = subset_topic['product_id'].iloc[0]\n",
    "  print(\"reviewerID = \" + str(reviewerID))\n",
    "  print(\"This reviewer's favorite topic is topic number \" + str(topic_n))\n",
    "  print(\"Based on favorite topic number, product number \" + str(product_n) + \" is recommended\")\n",
    "\n",
    "import random\n",
    "number = random.randrange(0, len(df))\n",
    "reviewerID = df.iloc[number, 0]\n",
    "recommendation(reviewerID, df)"
   ]
  },
  {
   "cell_type": "code",
   "execution_count": null,
   "metadata": {
    "colab": {
     "base_uri": "https://localhost:8080/"
    },
    "id": "0htG3l9QTrEe",
    "outputId": "4c0609f8-15ee-4669-d50f-2756eaf49412"
   },
   "outputs": [
    {
     "name": "stdout",
     "output_type": "stream",
     "text": [
      "reviewerID = A392YS0W837HFU\n",
      "This reviewer's favorite topic is topic number 4\n",
      "Based on favorite topic number, product number B00004R8VE is recommended\n"
     ]
    }
   ],
   "source": [
    "# This is the example on the PowerPoint deck\n",
    "recommendation('A392YS0W837HFU', df)"
   ]
  },
  {
   "cell_type": "code",
   "execution_count": null,
   "metadata": {
    "colab": {
     "base_uri": "https://localhost:8080/",
     "height": 95
    },
    "id": "x-YfX2UpT7el",
    "outputId": "a736443d-6673-49bd-ce3b-86f8b0cabd0a"
   },
   "outputs": [
    {
     "data": {
      "text/html": [
       "<div>\n",
       "<style scoped>\n",
       "    .dataframe tbody tr th:only-of-type {\n",
       "        vertical-align: middle;\n",
       "    }\n",
       "\n",
       "    .dataframe tbody tr th {\n",
       "        vertical-align: top;\n",
       "    }\n",
       "\n",
       "    .dataframe thead th {\n",
       "        text-align: right;\n",
       "    }\n",
       "</style>\n",
       "<table border=\"1\" class=\"dataframe\">\n",
       "  <thead>\n",
       "    <tr style=\"text-align: right;\">\n",
       "      <th></th>\n",
       "      <th>reviewerID</th>\n",
       "      <th>product_id</th>\n",
       "      <th>reviewText</th>\n",
       "      <th>overall</th>\n",
       "      <th>summary</th>\n",
       "      <th>Topic#</th>\n",
       "      <th>Topic_words</th>\n",
       "    </tr>\n",
       "  </thead>\n",
       "  <tbody>\n",
       "    <tr>\n",
       "      <th>2988</th>\n",
       "      <td>A392YS0W837HFU</td>\n",
       "      <td>B00000JYLO</td>\n",
       "      <td>A wonderful camera for Intrnet use. For auctio...</td>\n",
       "      <td>4</td>\n",
       "      <td>A Wonferful Camera for Internet Use, NOT PHOTOS</td>\n",
       "      <td>4</td>\n",
       "      <td>camera, picture, take, flash, battery, film, i...</td>\n",
       "    </tr>\n",
       "  </tbody>\n",
       "</table>\n",
       "</div>"
      ],
      "text/plain": [
       "          reviewerID  ...                                        Topic_words\n",
       "2988  A392YS0W837HFU  ...  camera, picture, take, flash, battery, film, i...\n",
       "\n",
       "[1 rows x 7 columns]"
      ]
     },
     "execution_count": 38,
     "metadata": {
      "tags": []
     },
     "output_type": "execute_result"
    }
   ],
   "source": [
    "# Overview of the example\n",
    "df[df['reviewerID']==\"A392YS0W837HFU\"]"
   ]
  },
  {
   "cell_type": "code",
   "execution_count": null,
   "metadata": {
    "colab": {
     "base_uri": "https://localhost:8080/",
     "height": 122
    },
    "id": "JdlWTej4WCbA",
    "outputId": "3cf797b7-045a-49a7-d2f3-b3735e5b5d1d"
   },
   "outputs": [
    {
     "data": {
      "application/vnd.google.colaboratory.intrinsic+json": {
       "type": "string"
      },
      "text/plain": [
       "'A wonderful camera for Intrnet use. For auctions, emails, web sites, Etc. this is a fine camera. The advantages are great macros (down to 1&quot;),10X zoom lens, comes with rechagable battery and charger, simple downloading of floppies to your PC and the economy of using floppies as the storage medium.  However this is NOT a camera suitable for Photos (Because of the 640X480 resolution) Do not make the mistake of taking important shots and assume you can get decent photos. For fine photos go to a 1 or 2 megapixel cameras. I also own the Nikon Coolpix 950 camera and recommend any Nikon or Olympus camera. Only the Nikons have great Macro capability (If this is important) A great buy for the money is the Olympus 460/490.'"
      ]
     },
     "execution_count": 39,
     "metadata": {
      "tags": []
     },
     "output_type": "execute_result"
    }
   ],
   "source": [
    "# Detailed review text for this user\n",
    "df[df['reviewerID']==\"A392YS0W837HFU\"].iloc[0, 2]"
   ]
  },
  {
   "cell_type": "code",
   "execution_count": null,
   "metadata": {
    "colab": {
     "base_uri": "https://localhost:8080/",
     "height": 156
    },
    "id": "nhXK2Sh3XXpO",
    "outputId": "b24e08e4-ef2c-4513-f893-a457ab366088"
   },
   "outputs": [
    {
     "data": {
      "application/vnd.google.colaboratory.intrinsic+json": {
       "type": "string"
      },
      "text/plain": [
       "\"The Mavica MVC-73 is a good low end camera.  If I want to blow up my pictures to 16X20, I use my 35mm SLR.  Megapixel cameras do take better pictures but they require EXPENSIVE memory cards.  The camera takes great shots for web sites and email.  If you shop around, floppies cost almost nothing.  With a rebate, I bought 100 floppies.  I put 10 of them in a bag and I took over 200 photos. (It would have cost me hundreds of dollars to save that many pictures on memory cards.) They used up less room than two rolls of film.  The recharable battery lasts forever and I can go out and take hundreds of photos without having to dump the memory card.  Achiving the photos uses little disk space on my hard drive.  The camera is very easy to use and in the long run pays for itself on the savings on film development, batteries or extra memory.  I give copies of disks right on the spot and the camera is very reliable. If you are looking for a good &quot;snapshot&quot; camera, this is a good one.  The other reviews mention the good and bad points of the camera so there is no need to mention them again.  This is a great camera for real estate or onsite documentation and great for the 100000000 pictures of the baby or the family picnic.  It's a fun, simple and easy to use camera. How many pictures do you wind up enlarging?  I run my favorites on my screensaver and they look great.\""
      ]
     },
     "execution_count": 40,
     "metadata": {
      "tags": []
     },
     "output_type": "execute_result"
    }
   ],
   "source": [
    "# purchased item review\n",
    "df[df['product_id']==\"B00000JYLO\"]['reviewText'].iloc[3]"
   ]
  },
  {
   "cell_type": "code",
   "execution_count": null,
   "metadata": {
    "colab": {
     "base_uri": "https://localhost:8080/"
    },
    "id": "deiI0D5ZaPBy",
    "outputId": "37c75efc-2dba-4faa-e307-5cd042c8fa8f"
   },
   "outputs": [
    {
     "name": "stdout",
     "output_type": "stream",
     "text": [
      "4.166666666666667\n",
      "reviewerID     12\n",
      "product_id     12\n",
      "reviewText     12\n",
      "overall        12\n",
      "summary        12\n",
      "Topic#         12\n",
      "Topic_words    12\n",
      "dtype: int64\n"
     ]
    }
   ],
   "source": [
    "# average rating for the purchased item\n",
    "print(df[df['product_id']==\"B00000JYLO\"]['overall'].mean())\n",
    "# the number of ratings for the purchased item\n",
    "print(df[df['product_id']==\"B00000JYLO\"].count())"
   ]
  },
  {
   "cell_type": "code",
   "execution_count": null,
   "metadata": {
    "colab": {
     "base_uri": "https://localhost:8080/",
     "height": 156
    },
    "id": "Y5_4apJ2T3La",
    "outputId": "f0cccf38-2443-4174-d1dd-841cce063714"
   },
   "outputs": [
    {
     "data": {
      "application/vnd.google.colaboratory.intrinsic+json": {
       "type": "string"
      },
      "text/plain": [
       "\"I'll try not to repeat the rave reviews that others have given the Olympus  C3030 but I thought I would counter a couple comments I saw about a  supposedly flawed view finder, battery compartment flap, and the battery  for the remote control.  One person commented that it took him 15 minutes  to figure out the camera battery flap which he ended up breaking.  Without  reading the manual it took me no time at all to install 4 AA batteries and  I had the camera up and running immediately without a hitch - or breaking  anything.  There was nothing wrong with my remote control or the battery,  and camera view finder works as it should.  The one very minor flaw is that  if you power up the camera with the lens cap over the lens, the zoom lens  tries to push outward causing the a grinding sound.  Its happend to me a  couple times but didn't cause any damage and I'm more careful now to take  the lens cap off before powering up the camera.This camera is awesome!  Others have written about its many featues and superb picture quality.  I  especially like the bonus of being able to make QuickTime videos.\""
      ]
     },
     "execution_count": 42,
     "metadata": {
      "tags": []
     },
     "output_type": "execute_result"
    }
   ],
   "source": [
    "# recommended item review\n",
    "df[df['product_id']==\"B00004R8VE\"]['reviewText'].iloc[0]"
   ]
  },
  {
   "cell_type": "code",
   "execution_count": null,
   "metadata": {
    "colab": {
     "base_uri": "https://localhost:8080/"
    },
    "id": "fySv2CAfVkuA",
    "outputId": "6b43f8ea-4079-499c-82cc-837fad5d8858"
   },
   "outputs": [
    {
     "name": "stdout",
     "output_type": "stream",
     "text": [
      "4.75\n",
      "reviewerID     16\n",
      "product_id     16\n",
      "reviewText     16\n",
      "overall        16\n",
      "summary        16\n",
      "Topic#         16\n",
      "Topic_words    16\n",
      "dtype: int64\n"
     ]
    }
   ],
   "source": [
    "# average rating for the recommended item\n",
    "print(df[df['product_id']==\"B00004R8VE\"]['overall'].mean())\n",
    "# the number of ratings for the recommended item\n",
    "print(df[df['product_id']==\"B00004R8VE\"].count())"
   ]
  },
  {
   "cell_type": "code",
   "execution_count": null,
   "metadata": {
    "id": "53LEy8ul5qwO"
   },
   "outputs": [],
   "source": []
  }
 ],
 "metadata": {
  "colab": {
   "collapsed_sections": [],
   "name": "Copy of NLP Group Assignment.ipynb",
   "provenance": [],
   "toc_visible": true
  },
  "kernelspec": {
   "display_name": "Python 3",
   "language": "python",
   "name": "python3"
  },
  "language_info": {
   "codemirror_mode": {
    "name": "ipython",
    "version": 3
   },
   "file_extension": ".py",
   "mimetype": "text/x-python",
   "name": "python",
   "nbconvert_exporter": "python",
   "pygments_lexer": "ipython3",
   "version": "3.7.6"
  }
 },
 "nbformat": 4,
 "nbformat_minor": 1
}
