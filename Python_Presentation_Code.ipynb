{
 "cells": [
  {
   "cell_type": "code",
   "execution_count": 0,
   "metadata": {
    "colab": {},
    "colab_type": "code",
    "id": "UultwQh8zpxR"
   },
   "outputs": [],
   "source": [
    "#import data: \n",
    "import numpy as np\n",
    "import pandas as pd\n",
    "import time\n",
    "import warnings\n",
    "import matplotlib.pyplot as plt\n",
    "import tensorflow as tf\n",
    "import seaborn as sns\n",
    "from collections import Counter\n",
    "from plotly import tools\n",
    "import chart_studio.plotly as py\n",
    "import plotly.figure_factory as ff\n",
    "import plotly.graph_objs as go\n",
    "from plotly.offline import download_plotlyjs, init_notebook_mode, plot, iplot\n",
    "init_notebook_mode(connected=True)\n",
    "\n",
    "\n",
    "%cd /Users/zhongyuhong/Desktop\n",
    "loan=pd.read_csv(\"loan.csv\")"
   ]
  },
  {
   "cell_type": "markdown",
   "metadata": {
    "colab_type": "text",
    "id": "Q1Q_9-9dnJWE"
   },
   "source": [
    "\n",
    "\n",
    "```\n",
    "# This is formatted as code\n",
    "```\n",
    "\n",
    "1.***Data Cleaning***/\n",
   
   ]
  },
  {
   "cell_type": "code",
   "execution_count": 0,
   "metadata": {
    "colab": {},
    "colab_type": "code",
    "id": "AEjEZbMfBTk1"
   },
   "outputs": [],
   "source": [
    "#Exploring the data frame propoerties, including numbers of rows and columns, Column names and types.\n",
    "loan.info()\n",
    "#top few rows by head command\n",
    "loan.head()"
   ]
  },
  {
   "cell_type": "code",
   "execution_count": 0,
   "metadata": {
    "colab": {},
    "colab_type": "code",
    "id": "o4l4CRoTmxDv"
   },
   "outputs": [],
   "source": [
    "loan.describe()"
   ]
  },
  {
   "cell_type": "code",
   "execution_count": 0,
   "metadata": {
    "colab": {},
    "colab_type": "code",
    "id": "Y9yKmnL9BUGL"
   },
   "outputs": [],
   "source": [
    "\n",
    "#number of variables have missing value\n",
    "print('Number of vairables have missing values\\n', (loan.isnull()|loan.isna()).any().value_counts(),'\\n')\n",
    "\n",
    "#number and percentage of missing value per variable\n",
    "mis_cnt = (loan.isnull()|loan.isna()).sum()\n",
    "mis_perc = mis_cnt/len(loan) *100\n",
    "print('Variables have the most missing value:\\n', mis_perc.sort_values(ascending=False).head(10),'\\n')\n",
    "\n",
    "#total number oand percentage of missing value \n",
    "total_mis_cnt=mis_cnt.sum()\n",
    "total_mis_perc=total_mis_cnt/np.product(loan.shape)*100\n",
    "print('Total number of missing value:', total_mis_cnt, '\\nTotal percent of missing value:',total_mis_perc,'\\n')"
   ]
  },
  {
   "cell_type": "code",
   "execution_count": 0,
   "metadata": {
    "colab": {},
    "colab_type": "code",
    "id": "MlLUp6CAm3hF"
   },
   "outputs": [],
   "source": [
    "#Drop the variables with more than 70% of missing value\n",
    "loan_miss = pd.concat([mis_cnt,round(mis_perc,2)], axis =1 , \n",
    "                      keys =[\"# of Missing Values\", \"% of Missing Values\"]).sort_values(by =\"% of Missing Values\", ascending = False)\n",
    "loan.drop(loan_miss[loan_miss[\"% of Missing Values\"]>70].reset_index()['index'],axis=1,inplace=True)"
   ]
  },
  {
   "cell_type": "code",
   "execution_count": 0,
   "metadata": {
    "colab": {},
    "colab_type": "code",
    "id": "QCYjXrbDBT-3"
   },
   "outputs": [],
   "source": [
    "#Drop the variables with the exactly same value on all records\n",
    "redun_col =[ col for col, is_redundant in ((loan ==loan.iloc[1]).sum() == loan.shape[0]).items() if is_redundant]\n",
    "loan.drop(redun_col, axis=1, inplace=True)"
   ]
  },
  {
   "cell_type": "code",
   "execution_count": 0,
   "metadata": {
    "colab": {},
    "colab_type": "code",
    "id": "VWpHEBm7BUI4"
   },
   "outputs": [],
   "source": [
    "#Inspect the data again\n",
    "print(loan.shape)"
   ]
  },
  {
   "cell_type": "code",
   "execution_count": 0,
   "metadata": {
    "colab": {},
    "colab_type": "code",
    "id": "de8aoH57BUNk"
   },
   "outputs": [],
   "source": [
    "#Removing the redundant & duplicate variables\n",
    "#id, member_id, url column can be removed as they have unique values for the purpose of loan identification only.\n",
    "#zipcode column can be removed as it has only first three digits and that information can be obtained by the state column\n",
    "#remove emp_title as well because it has more than 280000 unique emp_title and around 6% NA values and imputing them or deleting 50,000 rows from relevant data will lead to loss of data, hence, we will take out that column itself.\n",
    "#title column can be removed because it is redundant with purpose column which has fewer categories\n",
    "loan.drop([\"url\",\"collections_12_mths_ex_med\",\"pymnt_plan\",\"member_id\",\"id\",\"emp_title\",\"title\",\"zip_code\"]\n",
    "        , axis = 1, inplace=True)"
   ]
  },
  {
   "cell_type": "code",
   "execution_count": 0,
   "metadata": {
    "colab": {},
    "colab_type": "code",
    "id": "yHP4sqgOBUQ1"
   },
   "outputs": [],
   "source": [
    "#Converting incorrect data types\n",
    "#There are some Columns that are categorical variables but are represented as characters\n",
    "#We need to convert them into category\n",
    "\n",
    "cols = ['term','grade','emp_length', 'home_ownership', 'verification_status', 'loan_status',\n",
    "        'application_type',  'initial_list_status', 'policy_code']\n",
    "\n",
    "for col in cols:\n",
    "    loan[col] = loan[col].astype('category')\n",
    "loan.head()"
   ]
  },
  {
   "cell_type": "markdown",
   "metadata": {
    "colab_type": "text",
    "id": "4tjJ6nkCnWe8"
   },
   "source": [
    "2.Data Analysis and Visualization"
   ]
  },
  {
   "cell_type": "markdown",
   "metadata": {
    "colab_type": "text",
    "id": "iCNM6XCWqK_P"
   },
   "source": [
    ""
   ]
  },
  {
   "cell_type": "markdown",
   "metadata": {
    "colab_type": "text",
    "id": "j1_-vHowneCd"
   },
   "source": [
    "2.1 Overall time trend of loan"
   ]
  },
  {
   "cell_type": "code",
   "execution_count": 0,
   "metadata": {
    "colab": {},
    "colab_type": "code",
    "id": "UOLnOCG7nn6O"
   },
   "outputs": [],
   "source": [
    "#1.time trend\n",
    "#transform the issue dates by year\n",
    "f, ((ax1, ax2,ax3)) = plt.subplots(1,3,figsize=(20,5))\n",
    "series = pd.to_datetime(loan['issue_d'])\n",
    "loan['year'] = series.dt.year\n",
    "\n",
    "# The year of 2015 was the year were the highest amount of loans were issued\n",
    "sum=loan.groupby('year')[['loan_amnt']].sum().reset_index()\n",
    "sum.columns=['Year','Total amount of loans issued']\n",
    "sns.barplot('Year','Total amount of loans issued', data=sum, palette=\"Set2\",ax=ax1)\n",
    "ax1.set_title('Total Amount of Loans \\nInssued Every Year', fontsize=16)\n",
    "\n",
    "count=loan.groupby('year')[['loan_amnt']].count().reset_index()\n",
    "count.columns=['Year','Total number of loans issued']\n",
    "sns.barplot('Year','Total number of loans issued', data=count, palette=\"Set2\",ax=ax2)\n",
    "ax2.set_title('Total Number of Loans \\nInssued Every Year', fontsize=16)\n",
    "\n",
    "sns.barplot('year', 'loan_amnt', data=loan, palette=\"Set2\",ax=ax3)\n",
    "ax3.set_title('Average Loan Amount \\nIssued Every Year', fontsize=16)\n",
    "plt.xlabel('Year', fontsize=10)\n",
    "plt.ylabel('Average loan amount issued', fontsize=10)"
   ]
  },
  {
   "cell_type": "markdown",
   "metadata": {
    "colab_type": "text",
    "id": "OugmCUyLntE-"
   },
   "source": [
    "2.2 Loan usage pattern"
   ]
  },
  {
   "cell_type": "code",
   "execution_count": 0,
   "metadata": {
    "colab": {},
    "colab_type": "code",
    "id": "6JPa-QmcnqLa"
   },
   "outputs": [],
   "source": [
    "#what amount was mostly issued to borrowers\n",
    "sns.distplot(loan.loan_amnt, color=\"#F7522F\")\n",
    "plt.title('Distribution of Loan Amount', fontsize=15)\n",
    "#Most of the loans issued were in the range of 10,000 to 20,000 USD"
   ]
  },
  {
   "cell_type": "code",
   "execution_count": 0,
   "metadata": {
    "colab": {},
    "colab_type": "code",
    "id": "ZFcl59MXn8VE"
   },
   "outputs": [],
   "source": [
    "#How do people use the money borrowed from lendingclub?\n",
    "#almost 3/4ths of all P2P loans are used to consolidate or refinance other (generally-higher-interest-rate) debt\n",
    "f, ((ax1, ax2)) = plt.subplots(1,2,figsize=(16,8))\n",
    "values=loan.groupby(['year','purpose']).size()\n",
    "values.unstack().plot(kind='bar', stacked=True, legend=False,colormap=cmap, ax=ax1,grid=False,figsize=(7,4))\n",
    "ax1.set_title('Number of loans by purpose', fontsize=10)\n",
    "values=loan.groupby(['year','purpose'])['loan_amnt'].sum()\n",
    "values.unstack().plot(kind='bar', stacked=True, legend=False,colormap=cmap, ax=ax2,grid=False,figsize=(7,4))\n",
    "ax2.set_title('Amount of loans by purpose', fontsize=10)\n",
    "ax2.legend(bbox_to_anchor=(-1.0, -0.4, 1.8, 0.1), loc=10,prop={'size':7},\n",
    "           ncol=3, mode=\"expand\", borderaxespad=0.)"
   ]
  },
  {
   "cell_type": "code",
   "execution_count": 0,
   "metadata": {
    "colab": {},
    "colab_type": "code",
    "id": "nudcyhhvoApL"
   },
   "outputs": [],
   "source": [
    "#why most loans are used for this purpose?\n",
    "#the interst rate is more appealing, for example, a high-quality borrower can be eligible for about 8% P2P loan, \n",
    "#which is far lower than the 14% rate for a credit card balance transfer!\n",
    "#also,notice that the 2013 has the highest interest rate\n",
    "sns.boxplot(loan['year'],loan['int_rate'],palette=\"Set2\")\n",
    "plt.title('Interest Rate of Loans Every Year', fontsize=15)"
   ]
  },
  {
   "cell_type": "markdown",
   "metadata": {
    "colab_type": "text",
    "id": "io_OuEKhoE3F"
   },
   "source": [
    "2.3 Loan region pattern"
   ]
  },
  {
   "cell_type": "code",
   "execution_count": 0,
   "metadata": {
    "colab": {},
    "colab_type": "code",
    "id": "bVnnXusooQzN"
   },
   "outputs": [],
   "source": [
    "#4. region pattern\n",
    "# determine the regions from state column\n",
    "west = ['CA', 'OR', 'UT','WA', 'CO', 'NV', 'AK', 'MT', 'HI', 'WY', 'ID']\n",
    "south_west = ['AZ', 'TX', 'NM', 'OK']\n",
    "south_east = ['GA', 'NC', 'VA', 'FL', 'KY', 'SC', 'LA', 'AL', 'WV', 'DC', 'AR', 'DE', 'MS', 'TN' ]\n",
    "mid_west = ['IL', 'MO', 'MN', 'OH', 'WI', 'KS', 'MI', 'SD', 'IA', 'NE', 'IN', 'ND']\n",
    "north_east = ['CT', 'NY', 'PA', 'NJ', 'RI','MA', 'MD', 'VT', 'NH', 'ME']\n",
    "loan['region'] = np.nan\n",
    "def finding_regions(state):\n",
    "    if state in west:\n",
    "        return 'West'\n",
    "    elif state in south_west:\n",
    "        return 'SouthWest'\n",
    "    elif state in south_east:\n",
    "        return 'SouthEast'\n",
    "    elif state in mid_west:\n",
    "        return 'MidWest'\n",
    "    elif state in north_east:\n",
    "        return 'NorthEast'\n",
    "loan['region'] = loan['addr_state'].apply(finding_regions)"
   ]
  },
  {
   "cell_type": "code",
   "execution_count": 0,
   "metadata": {
    "colab": {},
    "colab_type": "code",
    "id": "VCS2WWPFoUIY"
   },
   "outputs": [],
   "source": [
    "#SouthEast , West and NorthEast regions had the highest amount lof loans issued.\n",
    "loan['issue_d2']=pd.to_datetime(loan['issue_d']).dt.to_period('M')\n",
    "region_amnt=loan.groupby(['issue_d2', 'region'])[['loan_amnt']].sum()\n",
    "cmap = plt.cm.Set3\n",
    "region_amnt.unstack().plot(stacked=False, colormap=cmap, grid=False, legend=True, figsize=(15,6))\n",
    "plt.title('Loans issued by Region', fontsize=16)"
   ]
  },
  {
   "cell_type": "code",
   "execution_count": 0,
   "metadata": {
    "colab": {},
    "colab_type": "code",
    "id": "6xuuG8h8oXtX"
   },
   "outputs": [],
   "source": [
    "# the reason why Southeast and West have huge amount of loan is the large number of loan, \n",
    "#while the reason for NorthEast is not only the large number of loan but also the average amount of each loan\n",
    "f, ((ax1, ax2)) = plt.subplots(1,2,figsize=(10,5))\n",
    "region_cnt=loan.groupby(['year', 'region'])[['loan_amnt']].count()\n",
    "region_cnt.unstack().plot(stacked=False, ax=ax1, colormap=cmap, grid=False, legend=False)\n",
    "ax1.set_title('Number of loans issued by Region', fontsize=12)\n",
    "region_average_amnt=loan.groupby(['year', 'region'])[['loan_amnt']].sum()/loan.groupby(['year', 'region'])[['loan_amnt']].count()\n",
    "region_average_amnt.unstack().plot(stacked=False, ax=ax2, colormap=cmap, grid=False, legend=False)\n",
    "ax2.set_title('Average amount of each loan issued by Region', fontsize=12)\n",
    "ax2.legend(bbox_to_anchor=(-1.0, -0.3, 1.8, 0.1), loc=10,prop={'size':8},\n",
    "           ncol=3, mode=\"expand\", borderaxespad=0.)"
   ]
  },
  {
   "cell_type": "code",
   "execution_count": 0,
   "metadata": {
    "colab": {},
    "colab_type": "code",
    "id": "ytGrUX-PoZng"
   },
   "outputs": [],
   "source": [
    "# determine the loan grade in integer from grade column\n",
    "loan['grade_int']=np.nan\n",
    "loan.loc[loan.grade==\"A\",'grade_int']=6\n",
    "loan.loc[loan.grade==\"B\",'grade_int']=5\n",
    "loan.loc[loan.grade==\"C\",'grade_int']=4\n",
    "loan.loc[loan.grade==\"D\",'grade_int']=3\n",
    "loan.loc[loan.grade==\"E\",'grade_int']=2\n",
    "loan.loc[loan.grade==\"F\",'grade_int']=1\n",
    "loan.loc[loan.grade==\"G\",'grade_int']=0"
   ]
  },
  {
   "cell_type": "code",
   "execution_count": 0,
   "metadata": {
    "colab": {},
    "colab_type": "code",
    "id": "jeZJFPF9obx7"
   },
   "outputs": [],
   "source": [
    "#Although people from NorthEast tend to borrow larger amount of money, since they have higher level income, \n",
    "#the repayment pressure shown as debt-to-income is relatively low. Accordingly, its average loan grade is high\n",
    "# on the contrary, for Southeast, where people have the greatest number of loans, since its average income is low, \n",
    "#it has high debt-to-income ratio and low loan grade.\n",
    "f, ((ax1, ax2,ax3)) = plt.subplots(1, 3,figsize=(15,5))\n",
    "by_dti = loan.groupby(['year', 'region']).dti.mean()\n",
    "by_dti.unstack().plot(colormap=cmap, grid=False, legend=False, ax=ax2)\n",
    "ax2.set_title('Average Debt-to-Income by Region', fontsize=14)\n",
    "by_income = loan.groupby(['year', 'region']).annual_inc.mean()\n",
    "by_income.unstack().plot(colormap=cmap, grid=False, ax=ax1,legend=False)\n",
    "ax1.set_title('Average Annual Income by Region', fontsize=14)\n",
    "by_grade= loan.groupby(['year', 'region']).grade_int.mean()\n",
    "by_grade.unstack().plot(colormap=cmap, grid=False, ax=ax3,legend=True)\n",
    "ax3.set_title('Average Loan Grade by Region', fontsize=14)\n",
    "ax3.legend(bbox_to_anchor=(-1.5, -0.3, 1.8, 0.1), loc=10,prop={'size':12},\n",
    "           ncol=5, mode=\"expand\", borderaxespad=0.)"
   ]
  },
  {
   "cell_type": "markdown",
   "metadata": {
    "colab_type": "text",
    "id": "S2TMJFfJoTZc"
   },
   "source": [
    "2.4 Loan risk analysis"
   ]
  },
  {
   "cell_type": "code",
   "execution_count": 0,
   "metadata": {
    "colab": {},
    "colab_type": "code",
    "id": "ser9C8-tomM_"
   },
   "outputs": [],
   "source": [
    "#determine main status from status column\n",
    "loan['loan_main_status']=loan['loan_status']\n",
    "loan.loc[loan.loan_status==\"Default\",'loan_main_status']='others'\n",
    "loan.loc[loan.loan_status==\"Does not meet the credit policy. Status:Fully Paid\" ,'loan_main_status']='others'\n",
    "loan.loc[loan.loan_status=='Does not meet the credit policy. Status:Charged Off','loan_main_status']='others'\n",
    "loan.loc[loan.loan_status=='Late (31-120 days)','loan_main_status']='others'\n",
    "loan.loc[loan.loan_status=='Issued','loan_main_status']='others'\n",
    "loan.loc[loan.loan_status=='In Grace Period','loan_main_status']='others'\n",
    "loan.loc[loan.loan_status=='Late (16-30 days)','loan_main_status']='others'"
   ]
  },
  {
   "cell_type": "code",
   "execution_count": 0,
   "metadata": {
    "colab": {},
    "colab_type": "code",
    "id": "Di-5zqyEoqk7"
   },
   "outputs": [],
   "source": [
    "# we have a great amount of current loans, that will be either fully paid or charged off in the future.\n",
    "#so we need to investigate the quality of current loans\n",
    "plt.figure(figsize = (6.5, 6.5))\n",
    "labels =['others','Charged Off','Fully Paid','Current']\n",
    "explode = [0, 0, 0,0.1]\n",
    "colors = ['silver','orange','wheat',  'yellow']\n",
    "values=loan['loan_main_status'].value_counts().sort_values()\n",
    "plt.pie(values, autopct='%1.2f%%', explode=explode,colors=colors,startangle=70,labels=labels,pctdistance=0.75,radius=1)\n",
    "plt.title('Loan Condition',fontsize=14)\n",
    "plt.show()"
   ]
  },
  {
   "cell_type": "code",
   "execution_count": 0,
   "metadata": {
    "colab": {},
    "colab_type": "code",
    "id": "1xdoBrK9oudv"
   },
   "outputs": [],
   "source": [
    "#loan of grade A to C consist 3/4\n",
    "plt.figure(figsize = (7.5, 7.5))\n",
    "colors = ['lightblue','skyblue','steelblue',  'dodgerblue','cadetblue','paleturquoise','azure']\n",
    "labels =['B','C','A','D','E','F','G']\n",
    "values=loan[loan['loan_status']=='Current']['grade'].value_counts()\n",
    "plt.pie(values, autopct='%1.1f%%', startangle=70,colors=colors , labels=labels,pctdistance=0.85,radius=1)\n",
    "plt.title('Grade of Current Loans',fontsize=14)\n",
    "plt.show()"
   ]
  },
  {
   "cell_type": "code",
   "execution_count": 0,
   "metadata": {
    "colab": {},
    "colab_type": "code",
    "id": "IjKVgea8owq0"
   },
   "outputs": [],
   "source": [
    "#so what is the risk of each grade?\n",
    "#we can learn from complete loans including fully paid and charged off, the return rate of investment on loans below D grade is negative \n",
    "complete=['Charged Off','Fully Paid']\n",
    "loan['complete'] = np.nan\n",
    "def loan_complete(status):\n",
    "    if status in complete:\n",
    "        return 1\n",
    "    else:\n",
    "        return 0   \n",
    "loan['complete'] = loan['loan_status'].apply(loan_complete)\n",
    "profit=(loan[loan['complete']==1].groupby(['sub_grade'])['total_pymnt'].sum()-loan[loan['complete']==1].groupby(['sub_grade'])['loan_amnt'].sum())/loan[loan['complete']==1].groupby(['sub_grade'])['total_pymnt'].sum()\n",
    "profit.plot(kind='bar', stacked=True, legend=False,colormap=plt.cm.Set3, grid=False,figsize=(7,4))\n",
    "plt.title('Return on Investment of Each Loan Subgrade',fontsize=14)"
   ]
  },
  {
   "cell_type": "markdown",
   "metadata": {
    "colab_type": "text",
    "id": "dR5mU4mCo13e"
   },
   "source": [
    ""
   ]
  },
  {
   "cell_type": "code",
   "execution_count": 0,
   "metadata": {
    "colab": {},
    "colab_type": "code",
    "id": "QCDb4DK58T7E"
   },
   "outputs": [],
   "source": [
    "#1.Analysis by Income Category: create different income categories in order to detect important patters and go more into depth in our analysis.\n",
    "#（1）First we create categories for annual income\n",
    "loan['income_category'] = np.nan\n",
    "lst = [loan]\n",
    "for col in lst:\n",
    "    col.loc[col['annual_inc'] <= 100000, 'income_category'] = 'Low'\n",
    "    col.loc[(col['annual_inc'] > 100000) & (col['annual_inc'] <= 200000), 'income_category'] = 'Medium'\n",
    "    col.loc[col['annual_inc'] > 200000, 'income_category'] = 'High'\n",
    "\n",
    "#（2）Second we visualize by income category:\n",
    "#Borrowers that made part of the high income category took higher loan amounts than people from low and medium income categories. Of course, people with higher annual incomes are more likely to pay loans with a higher amount.\n",
    "#Borrowers with a lower income had on average higher interest rates while people with a higher annual income had lower interest rates on their loans.\n",
    "fig, ((ax1, ax2))= plt.subplots(nrows=1, ncols=2, figsize=(14,6))\n",
    "sns.violinplot(x=\"income_category\", y=\"loan_amnt\", data=loan, palette=\"Set2\", ax=ax1 )\n",
    "sns.boxplot(x=\"income_category\", y=\"int_rate\", data=loan, palette=\"Set2\", ax=ax2)"
   ]
  },
  {
   "cell_type": "code",
   "execution_count": 0,
   "metadata": {
    "colab": {},
    "colab_type": "code",
    "id": "uKi3q0RG3QcV"
   },
   "outputs": [],
   "source": [
    "#2.Analysis by length of employment\n",
    "fig, ((ax1, ax2))= plt.subplots(nrows=1, ncols=2, figsize=(14,6))\n",
    "sns.violinplot(x=\"emp_length\", y=\"loan_amnt\", data=loan, palette=\"Set2\", ax=ax1 )\n",
    "sns.boxplot(x=\"emp_length\", y=\"int_rate\", data=loan, palette=\"Set2\", ax=ax2)"
   ]
  },
  {
   "cell_type": "code",
   "execution_count": 0,
   "metadata": {
    "colab": {},
    "colab_type": "code",
    "id": "zrY60uqA3RTk"
   },
   "outputs": [],
   "source": [
    "#3.Analysis by home_ownership\n",
    "fig, ((ax1, ax2, ax3))= plt.subplots(nrows=1, ncols=3, figsize=(14,6))\n",
    "sns.violinplot(x=\"home_ownership\", y=\"loan_amnt\", data=loan, palette=\"Set2\", ax=ax1 )\n",
    "sns.boxplot(x=\"home_ownership\", y=\"int_rate\", data=loan, palette=\"Set2\", ax=ax2)\n",
    "sns.boxplot(x=\"home_ownership\", y=\"grade_int\", data=loan, palette=\"Set2\", ax=ax3)"
   ]
  },
  {
   "cell_type": "code",
   "execution_count": 0,
   "metadata": {
    "colab": {},
    "colab_type": "code",
    "id": "TF6MLWvl3TbX"
   },
   "outputs": [],
   "source": [
    "#4.Analysis by purpose of loan\n",
    "fig, ((ax1, ax2))= plt.subplots(nrows=2, ncols=1, figsize=(14,6))\n",
    "sns.violinplot(x=\"purpose\", y=\"loan_amnt\", data=loan, palette=\"Set2\", ax=ax1 )\n",
    "sns.boxplot(x=\"purpose\", y=\"int_rate\", data=loan, palette=\"Set2\", ax=ax2)"
   ]
  },
  {
   "cell_type": "code",
   "execution_count": 0,
   "metadata": {
    "colab": {},
    "colab_type": "code",
    "id": "VCpnNmPULIMh"
   },
   "outputs": [],
   "source": [
    "#5.Analysis by region-shown in both graph and map\n",
    "#(1)First,we deal with those key metrics: loan_condition and employment length\n",
    "# Determining the loans that are bad from loan_status column\n",
    "bad_loan = [\"Charged Off\", \"Default\", \"Does not meet the credit policy. Status:Charged Off\", \"In Grace Period\", \n",
    "            \"Late (16-30 days)\", \"Late (31-120 days)\"]\n",
    "loan['loan_condition'] = np.nan\n",
    "def loan_condition(status):\n",
    "    if status in bad_loan:\n",
    "        return 'Bad Loan'\n",
    "    else:\n",
    "        return 'Good Loan'    \n",
    "loan['loan_condition'] = loan['loan_status'].apply(loan_condition)\n",
    "#Transform the column loan_condition into integrers.\n",
    "lst = [loan]\n",
    "loan['loan_condition_int'] = np.nan\n",
    "for col in lst:\n",
    "    col.loc[loan['loan_condition'] == 'Good Loan', 'loan_condition_int'] = 0 # Negative (Bad Loan)\n",
    "    col.loc[loan['loan_condition'] == 'Bad Loan', 'loan_condition_int'] = 1 # Positive (Good Loan)\n",
    "# Convert from float to int the column (This is our label)  \n",
    "loan['loan_condition_int'] = loan['loan_condition_int'].astype(int)\n",
    "#Create a new column and convert emp_length to integers.\n",
    "employment_length = ['10+ years', '< 1 year', '1 year', '3 years', '8 years', '9 years',\n",
    "                    '4 years', '5 years', '6 years', '2 years', '7 years', 'n/a']\n",
    "lst = [loan]\n",
    "loan['emp_length_int'] = np.nan\n",
    "for col in lst:\n",
    "    col.loc[col['emp_length'] == '10+ years', \"emp_length_int\"] = 10\n",
    "    col.loc[col['emp_length'] == '9 years', \"emp_length_int\"] = 9\n",
    "    col.loc[col['emp_length'] == '8 years', \"emp_length_int\"] = 8\n",
    "    col.loc[col['emp_length'] == '7 years', \"emp_length_int\"] = 7\n",
    "    col.loc[col['emp_length'] == '6 years', \"emp_length_int\"] = 6\n",
    "    col.loc[col['emp_length'] == '5 years', \"emp_length_int\"] = 5\n",
    "    col.loc[col['emp_length'] == '4 years', \"emp_length_int\"] = 4\n",
    "    col.loc[col['emp_length'] == '3 years', \"emp_length_int\"] = 3\n",
    "    col.loc[col['emp_length'] == '2 years', \"emp_length_int\"] = 2\n",
    "    col.loc[col['emp_length'] == '1 year', \"emp_length_int\"] = 1\n",
    "    col.loc[col['emp_length'] == '< 1 year', \"emp_length_int\"] = 0.5\n",
    "    col.loc[col['emp_length'] == 'n/a', \"emp_length_int\"] = 0"
   ]
  },
  {
   "cell_type": "code",
   "execution_count": 0,
   "metadata": {
    "colab": {},
    "colab_type": "code",
    "id": "as9TSL8d-RZN"
   },
   "outputs": [],
   "source": [
    "#(2)Then we could show the risk of loan of different states in graph\n",
    "by_condition = loan.groupby('addr_state')['loan_condition'].value_counts()/ loan.groupby('addr_state')['loan_condition'].count()\n",
    "by_emp_length = loan.groupby(['region', 'addr_state'], as_index=False).emp_length_int.mean().sort_values(by=\"addr_state\")\n",
    "loan_condition_bystate = pd.crosstab(loan['addr_state'], loan['loan_condition'] )\n",
    "cross_condition = pd.crosstab(loan[\"addr_state\"], loan[\"loan_condition\"])\n",
    "# Percentage of condition of loan\n",
    "percentage_loan_contributor = pd.crosstab(loan['addr_state'], loan['loan_condition']).apply(lambda x: x/x.sum() * 100)\n",
    "condition_ratio = cross_condition[\"Bad Loan\"]/cross_condition[\"Good Loan\"]\n",
    "by_dti = loan.groupby(['region', 'addr_state'], as_index=False).dti.mean()\n",
    "state_codes = sorted(states)\n",
    "# Take to a list\n",
    "default_ratio = condition_ratio.values.tolist()\n",
    "average_dti = by_dti['dti'].values.tolist()\n",
    "average_emp_length = by_emp_length[\"emp_length_int\"].values.tolist()\n",
    "number_of_badloans = loan_condition_bystate['Bad Loan'].values.tolist()\n",
    "percentage_ofall_badloans = percentage_loan_contributor['Bad Loan'].values.tolist()\n",
    "from collections import OrderedDict\n",
    "# Figure Number 2\n",
    "risk_data = OrderedDict([('state_codes', state_codes),\n",
    "                         ('default_ratio', default_ratio),\n",
    "                         ('badloans_amount', number_of_badloans),\n",
    "                         ('percentage_of_badloans', percentage_ofall_badloans),\n",
    "                         ('average_dti', average_dti),\n",
    "                         ('average_emp_length', average_emp_length)])\n",
    "# Figure 2 Dataframe \n",
    "risk_loan = pd.DataFrame.from_dict(risk_data)\n",
    "risk_loan = risk_loan.round(decimals=3)\n",
    "risk_loan.head()"
   ]
  },
  {
   "cell_type": "code",
   "execution_count": 0,
   "metadata": {
    "colab": {},
    "colab_type": "code",
    "id": "CfZ7Xx3g-UN3"
   },
   "outputs": [],
   "source": [
    "#(3)To show more directly,we could visualiza in map:\n",
    "import plotly.graph_objs as go\n",
    "for col in risk_loan.columns:\n",
    "    risk_loan[col] = risk_loan[col].astype(str)\n",
    "scl = [[0.0, 'rgb(202, 202, 202)'],[0.2, 'rgb(253, 205, 200)'],[0.4, 'rgb(252, 169, 161)'],\\\n",
    "            [0.6, 'rgb(247, 121, 108  )'],[0.8, 'rgb(232, 70, 54)'],[1.0, 'rgb(212, 31, 13)']]\n",
    "risk_loan['text'] = risk_loan['state_codes'] + '<br>' +\\\n",
    "'Number of Bad Loans: ' + risk_loan['badloans_amount'] + '<br>' + \\\n",
    "'Percentage of all Bad Loans: ' + risk_loan['percentage_of_badloans'] + '%' +  '<br>' + \\\n",
    "'Average Debt-to-Income Ratio: ' + risk_loan['average_dti'] + '<br>'+\\\n",
    "'Average Length of Employment: ' + risk_loan['average_emp_length']\n",
    "data = [ dict(\n",
    "        type='choropleth',\n",
    "        colorscale = scl,\n",
    "        autocolorscale = False,\n",
    "        locations = risk_loan['state_codes'],\n",
    "        z = risk_loan['default_ratio'], \n",
    "        locationmode = 'USA-states',\n",
    "        text = risk_loan['text'],\n",
    "        marker = dict(\n",
    "            line = dict (\n",
    "                color = 'rgb(255,255,255)',\n",
    "                width = 2\n",
    "            ) ),\n",
    "        colorbar = dict(\n",
    "            title = \"%\")\n",
    "        ) ]\n",
    "layout = dict(\n",
    "    title = 'Lending Clubs Default Rates <br> (Analyzing Risks)',\n",
    "    geo = dict(\n",
    "        scope = 'usa',\n",
    "        projection=dict(type='albers usa'),\n",
    "        showlakes = True,\n",
    "        lakecolor = 'rgb(255, 255, 255)')\n",
    ")\n",
    "fig = dict(data=data, layout=layout)\n",
    "iplot(fig, filename='d3-cloropleth-map')"
   ]
  },
  {
   "cell_type": "markdown",
   "metadata": {
    "colab_type": "text",
    "id": "zHsriVPHpup-"
   },
   "source": [
    "3.Predictive Model"
   ]
  },
  {
   "cell_type": "markdown",
   "metadata": {
    "colab_type": "text",
    "id": "3PAPLQuTpz55"
   },
   "source": [
    ""
   ]
  },
  {
   "cell_type": "code",
   "execution_count": 0,
   "metadata": {
    "colab": {},
    "colab_type": "code",
    "id": "FKqnwsruBUUE"
   },
   "outputs": [],
   "source": [
    "#Part 5 \n",
    "#import packages\n",
    "import seaborn as sns\n",
    "import statsmodels.api as sm"
   ]
  },
  {
   "cell_type": "code",
   "execution_count": 0,
   "metadata": {
    "colab": {},
    "colab_type": "code",
    "id": "CNnoWo8fBUXg"
   },
   "outputs": [],
   "source": [
    "#1. find correlation\n",
    "#select necessary columns: relevant to interest rate prediction\n",
    "df_LC = loan.filter(['loan_amnt','term','int_rate','installment','grade','sub_grade','emp_length','home_ownership',\n",
    "                    'annual_inc','verification_status','purpose','dti','delinq_2yrs','loan_status'])\n",
    "df_LC.dtypes\n",
    "#plot \n",
    "#find correlation between variables\n",
    "plt.figure(figsize=(20,20))\n",
    "sns.set_context(\"paper\", font_scale=1)\n",
    "##finding the correllation matrix and changing the categorical data to category for the plot.\n",
    "sns.heatmap(df_LC.assign(grade=df_LC.grade.astype('category').cat.codes,\n",
    "                         sub_g=df_LC.sub_grade.astype('category').cat.codes,\n",
    "                         term=df_LC.term.astype('category').cat.codes,\n",
    "                        emp_l=df_LC.emp_length.astype('category').cat.codes,\n",
    "                         ver =df_LC.verification_status.astype('category').cat.codes,\n",
    "                        home=df_LC.home_ownership.astype('category').cat.codes,\n",
    "                        purp=df_LC.purpose.astype('category').cat.codes).corr(), \n",
    "                         annot=True, cmap='bwr',vmin=-1, vmax=1, square=True, linewidths=0.5)\n",
    "#conclusion: interest rate is highly correlated to grade (/sub-grade), and also correlated to term. "
   ]
  },
  {
   "cell_type": "code",
   "execution_count": 0,
   "metadata": {
    "colab": {},
    "colab_type": "code",
    "id": "qWPkMkjiBUc_"
   },
   "outputs": [],
   "source": [
    "2. #linear regression model to predict interest rate: \n",
    "#convert grade into dummy variable\n",
    "data = pd.get_dummies(loan, columns=['grade'])\n",
    "data\n",
    "#convert term into dummy variable\n",
    "data2 = pd.get_dummies(data, columns=['term'])\n",
    "data2\n",
    "#list of variables\n",
    "y=data2['int_rate']\n",
    "x1=data2['grade_A']\n",
    "x2=data2['grade_B']\n",
    "x3=data2['grade_C']\n",
    "x4=data2['grade_D']\n",
    "x5=data2['grade_E']\n",
    "x6=data2['grade_F']\n",
    "x7=data2['grade_G']\n",
    "x8=data2['term_ 36 months']\n",
    "x9=data2['term_ 60 months']\n",
    "#select variables to put into model\n",
    "x=np.column_stack((x1,x2,x3,x4,x5,x6,x8))\n",
    "x\n",
    "#add constant term\n",
    "x_n = sm.add_constant(x)\n",
    "#regression\n",
    "model = sm.OLS(y, x_n) \n",
    "#regression result\n",
    "results = model.fit() \n",
    "#print the result \n",
    "print(results.summary())\n",
    "print('Parameters: ', results.params)\n",
    "print('R2: ', results.rsquared)"
   ]
  }
 ],
 "metadata": {
  "colab": {
   "collapsed_sections": [],
   "name": "Python_Presentation_Code.ipynb",
   "provenance": []
  },
  "kernelspec": {
   "display_name": "Python 3",
   "language": "python",
   "name": "python3"
  },
  "language_info": {
   "codemirror_mode": {
    "name": "ipython",
    "version": 3
   },
   "file_extension": ".py",
   "mimetype": "text/x-python",
   "name": "python",
   "nbconvert_exporter": "python",
   "pygments_lexer": "ipython3",
   "version": "3.7.4"
  }
 },
 "nbformat": 4,
 "nbformat_minor": 1
}
